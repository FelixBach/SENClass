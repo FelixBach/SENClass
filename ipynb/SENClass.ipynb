{
 "cells": [
  {
   "cell_type": "markdown",
   "id": "a97883ee",
   "metadata": {},
   "source": [
    "# Tutorial Classification of European Land Cover Products using Sentinel-1"
   ]
  },
  {
   "cell_type": "markdown",
   "id": "12c133b4",
   "metadata": {},
   "source": [
    "The focus of this task is the automated random sampling of the reference data and the SAR image data\n",
    "and subsequent feeding into a machine learning framework. A study area is represented by a wetland site of Donana Delta in Spain."
   ]
  },
  {
   "cell_type": "markdown",
   "id": "ced5cf68",
   "metadata": {},
   "source": [
    "## Content"
   ]
  },
  {
   "cell_type": "markdown",
   "id": "6a4b56b6",
   "metadata": {},
   "source": [
    "1. Importing Python modules\n",
    "2. Define input paths\n",
    "3. Resample data and reclassify raster data\n",
    "4. Select training samples\n",
    "5. Create Random Forest and Predict the result\n",
    "6. Visualize the result\n",
    "7. Accuracy Assessment\n",
    "8. Parameter tuning"
   ]
  },
  {
   "cell_type": "markdown",
   "id": "b6f3af85",
   "metadata": {},
   "source": [
    "### 1. Importing Python modules from .py files"
   ]
  },
  {
   "cell_type": "markdown",
   "id": "a3ae5597",
   "metadata": {},
   "source": [
    "These functions are part of the SenClass project and are needed for computing and visualizing the results."
   ]
  },
  {
   "cell_type": "code",
   "execution_count": null,
   "id": "7b750744",
   "metadata": {},
   "outputs": [],
   "source": [
    "from SENClass import geodata\n",
    "from SENClass import random_forest\n",
    "from SENClass import accuracy_assessment\n",
    "from SENClass import pca"
   ]
  },
  {
   "cell_type": "markdown",
   "id": "03642efe",
   "metadata": {},
   "source": [
    "### 2. Define input paths"
   ]
  },
  {
   "cell_type": "markdown",
   "id": "173c69c5",
   "metadata": {},
   "source": [
    "This is the only box which needs to be changed are the ones where paths must be adjusted, all others runs automatically. But you can adjust the parameters in the following boxes \n",
    "Two directories need to be defined with / as separator:"
   ]
  },
  {
   "cell_type": "markdown",
   "id": "5ea8a4bb",
   "metadata": {},
   "source": [
    "<ul>\n",
    "<li> <i>path</i> a directory containing all the raster files provided with this tutorial.</li>\n",
    "<li> <i>path_ref_p</i> a directory containing a reference product file, in this case  Global Surface Water Product (Seasonality) </li>\n",
    "</ul>"
   ]
  },
  {
   "cell_type": "code",
   "execution_count": null,
   "id": "e484d7ae",
   "metadata": {},
   "outputs": [],
   "source": [
    "path = '/path/to/data/'\n",
    "path_ref_p = '/path/to/reference_data'  "
   ]
  },
  {
   "cell_type": "markdown",
   "id": "5fe3df89",
   "metadata": {},
   "source": [
    "Here will be defined a file extention for raster images and the name of the reference product file"
   ]
  },
  {
   "cell_type": "code",
   "execution_count": null,
   "id": "db6ba4f7",
   "metadata": {},
   "outputs": [],
   "source": [
    "raster_ext = \"tif\"\n",
    "ref_p_name = \"seasonality_10W_40Nv1_3_2020_sub_reprojected.tif\""
   ]
  },
  {
   "cell_type": "markdown",
   "id": "821781bf",
   "metadata": {},
   "source": [
    "#### create the output directory and files "
   ]
  },
  {
   "cell_type": "code",
   "execution_count": null,
   "id": "97dc0a44",
   "metadata": {},
   "outputs": [],
   "source": [
    "out_folder_resampled_scenes = \"resamp/\"\n",
    "out_folder_prediction = \"results/\"  "
   ]
  },
  {
   "cell_type": "code",
   "execution_count": null,
   "id": "ea3a6fcb",
   "metadata": {},
   "outputs": [],
   "source": [
    "name_predicted_image = \"base_prediction_nd_0\"\n",
    "name_tuned_predicted_image = \"tune_prediction_nd_0\""
   ]
  },
  {
   "cell_type": "markdown",
   "id": "c3abb62b",
   "metadata": {},
   "source": [
    "### 3. Resample data and reclassify raster data"
   ]
  },
  {
   "cell_type": "markdown",
   "id": "df987cff",
   "metadata": {},
   "source": [
    "The raster used as reference product is projected into the coordinate system of the satellite images. The satellite\n",
    "images are not reprojected, but the pixel size is adjusted to that of the reference product."
   ]
  },
  {
   "cell_type": "code",
   "execution_count": null,
   "id": "9e3b641a",
   "metadata": {},
   "outputs": [],
   "source": [
    "out_ref_p = geodata.reproject_raster(path, path_ref_p, ref_p_name, raster_ext, out_folder_resampled_scenes)"
   ]
  },
  {
   "cell_type": "markdown",
   "id": "cac5157b",
   "metadata": {},
   "source": [
    "raster_value describes the class values from the reference raster. class_value are the new class values. The reclassification takes place via a less than or equal approach. Every Pixel with the value 0 will receive the value 100. All values from 1 to less than or equal to 11 the value 200 and all pixels with the value 12 the value 300. Both lists must have the same length for the reclassification to be executed. "
   ]
  },
  {
   "cell_type": "code",
   "execution_count": null,
   "id": "a65b63fc",
   "metadata": {},
   "outputs": [],
   "source": [
    "raster_value = [0, 11, 12]\n",
    "class_value = [100, 200, 300]"
   ]
  },
  {
   "cell_type": "code",
   "execution_count": null,
   "id": "a67caddb",
   "metadata": {},
   "outputs": [],
   "source": [
    "geodata.reclass_raster(raster_value, class_value, out_ref_p)"
   ]
  },
  {
   "cell_type": "markdown",
   "id": "3b7330c2",
   "metadata": {},
   "source": [
    "### 4. Select training samples"
   ]
  },
  {
   "cell_type": "markdown",
   "id": "f7b0af10",
   "metadata": {},
   "source": [
    "#### define parameters for sample selection"
   ]
  },
  {
   "cell_type": "markdown",
   "id": "44cf457b",
   "metadata": {},
   "source": [
    "Furthermore, three processing parameters for sample selection can be adjusted:\n",
    "<ul>\n",
    "<li> <i>random_state</i></li>\n",
    "<li> <i>train_size</i> Specifies how many samples are used for training</li>\n",
    "<li> <i>sss</i> True: using stratified random sampling, False: using random sampling</li>\n",
    "</ul>    "
   ]
  },
  {
   "cell_type": "markdown",
   "id": "909ba234",
   "metadata": {},
   "source": [
    "The function select samples for training and testing. The user has the choice between two methods to select the\n",
    "test and training pixels. If strat is set to true, the pixels and labels are selected using the sklearn algorithm\n",
    " <i>StratifiedShuffleSplit </i>. Otherwise, the pixels and labels are randomly selected from the data frame using the\n",
    "sklearn algorithm  <i>train_test_split</i>."
   ]
  },
  {
   "cell_type": "code",
   "execution_count": null,
   "id": "66c76cbd",
   "metadata": {},
   "outputs": [],
   "source": [
    "random_state = 0\n",
    "train_size = 0.25  \n",
    "sss = False "
   ]
  },
  {
   "cell_type": "code",
   "execution_count": null,
   "id": "736380f3",
   "metadata": {},
   "outputs": [],
   "source": [
    "x_train, y_train, data, mask = geodata.select_samples(path, path_ref_p, out_ref_p, out_folder_resampled_scenes,\n",
    "                                                          raster_ext, train_size, random_state, sss)"
   ]
  },
  {
   "cell_type": "markdown",
   "id": "ff2fecff",
   "metadata": {},
   "source": [
    "#### Define the number of components for Principal Coponent Analysis"
   ]
  },
  {
   "cell_type": "markdown",
   "id": "660ad3db",
   "metadata": {},
   "source": [
    "We recommend not to perform PCA, because the result is much worse. "
   ]
  },
  {
   "cell_type": "code",
   "execution_count": null,
   "id": "b65d61a1",
   "metadata": {},
   "outputs": [],
   "source": [
    "# n_components = 0.95"
   ]
  },
  {
   "cell_type": "code",
   "execution_count": null,
   "id": "dc01e91c",
   "metadata": {},
   "outputs": [],
   "source": [
    "Linear dimensionality reduction using Singular Value Decomposition of the data to project it to a lower dimensional space."
   ]
  },
  {
   "cell_type": "code",
   "execution_count": null,
   "id": "5f6d61c3",
   "metadata": {},
   "outputs": [],
   "source": [
    "# data, x_train = pca.principal(data, x_train, n_components)"
   ]
  },
  {
   "cell_type": "markdown",
   "id": "913be4a0",
   "metadata": {},
   "source": [
    "### 5. Create basic Random Forest and Predict the result"
   ]
  },
  {
   "cell_type": "markdown",
   "id": "b63f2e00",
   "metadata": {},
   "source": [
    "#### define random forest parameter"
   ]
  },
  {
   "cell_type": "markdown",
   "id": "8785c763",
   "metadata": {},
   "source": [
    "As well, the following random forest parameters can be adjusted\n",
    "<ul>\n",
    "<li> <i>max_depth</i></li> The maximum depth of the tree, default none\n",
    "<li> <i>n_estimator</i></li> The number of trees in the forest, default 100\n",
    "<li> <i>n_cores</i></li> Defines number of cores to use, if -1 all cores are used\n",
    "<li> <i>verbose</i></li> Shows output from rando mforrest in console\n",
    "</ul>"
   ]
  },
  {
   "cell_type": "code",
   "execution_count": 1,
   "id": "32039819",
   "metadata": {},
   "outputs": [],
   "source": [
    "max_depth = 3 \n",
    "n_estimator = 2  \n",
    "n_cores = 1\n",
    "verbose = 1 "
   ]
  },
  {
   "cell_type": "markdown",
   "id": "58c20347",
   "metadata": {},
   "source": [
    "#### create random forest"
   ]
  },
  {
   "cell_type": "markdown",
   "id": "9a79eb6c",
   "metadata": {},
   "source": [
    "The RandomForest will be created with this function."
   ]
  },
  {
   "cell_type": "code",
   "execution_count": null,
   "id": "5255fb7d",
   "metadata": {},
   "outputs": [],
   "source": [
    "rf = random_forest.rf_create(max_depth, random_state, n_estimator, n_cores, verbose)"
   ]
  },
  {
   "cell_type": "markdown",
   "id": "a37c03ff",
   "metadata": {},
   "source": [
    "#### fit random forest model"
   ]
  },
  {
   "cell_type": "markdown",
   "id": "4ce8d7f6",
   "metadata": {},
   "source": [
    "rf_fit will create the Random Forrest with the defined parameters and fit the model to the training data."
   ]
  },
  {
   "cell_type": "code",
   "execution_count": null,
   "id": "3e0b8755",
   "metadata": {},
   "outputs": [],
   "source": [
    "rf_fitted = random_forest.rf_fit(rf, x_train, y_train)"
   ]
  },
  {
   "cell_type": "markdown",
   "id": "9aad679e",
   "metadata": {},
   "source": [
    "#### predict result "
   ]
  },
  {
   "cell_type": "markdown",
   "id": "bae23050",
   "metadata": {},
   "source": [
    "rf_predict will predict the result "
   ]
  },
  {
   "cell_type": "code",
   "execution_count": null,
   "id": "b7e669d5",
   "metadata": {},
   "outputs": [],
   "source": [
    "prediction = random_forest.rf_predict(data, rf_fitted)"
   ]
  },
  {
   "cell_type": "markdown",
   "id": "570cd1be",
   "metadata": {},
   "source": [
    "## 6. Visualize the result\n"
   ]
  },
  {
   "cell_type": "markdown",
   "id": "f25c110e",
   "metadata": {},
   "source": [
    "The function <i>tif_visualize</i> shows the classification result from the Global Water Surface Product (Seasonality). \n",
    "The visualization only works for the Global Water Surface Product."
   ]
  },
  {
   "cell_type": "code",
   "execution_count": null,
   "id": "8f72d346",
   "metadata": {},
   "outputs": [],
   "source": [
    "geodata.tif_visualize(path, out_folder_prediction, name_predicted_image, raster_ext) #visualize a base prediction"
   ]
  },
  {
   "cell_type": "markdown",
   "id": "db262fe9",
   "metadata": {},
   "source": [
    "We can save the result as GeoTIFF"
   ]
  },
  {
   "cell_type": "code",
   "execution_count": null,
   "id": "99276184",
   "metadata": {},
   "outputs": [],
   "source": [
    "geodata.prediction_to_gtiff(prediction, path, out_folder_prediction, name_predicted_image, out_ref_p, raster_ext,\n",
    "                                mask)"
   ]
  },
  {
   "cell_type": "markdown",
   "id": "c40a7eb0",
   "metadata": {},
   "source": [
    "## 7. Accuracy Assessment"
   ]
  },
  {
   "cell_type": "markdown",
   "id": "9f1a17f8",
   "metadata": {},
   "source": [
    "Contains functions to assess the accuracy of the RF classifier. The following metrics are\n",
    "evaluated:\n",
    "<li>Confusion matrix (CM)</li>\n",
    "<li>Kappa statistic (Kappa)</li>\n",
    "<li>Classification report (precision, recall, f1-score, support)</li>"
   ]
  },
  {
   "cell_type": "code",
   "execution_count": null,
   "id": "dacb9c2d",
   "metadata": {},
   "outputs": [],
   "source": [
    "AccuracyAssessment.accuracy_assessment(prediction, out_ref_p)"
   ]
  },
  {
   "cell_type": "markdown",
   "id": "0fff7156",
   "metadata": {},
   "source": [
    "## 8. Parameter tuning"
   ]
  },
  {
   "cell_type": "markdown",
   "id": "af5f0d6c",
   "metadata": {},
   "source": [
    "#### define random forest parameter for parameter tuning"
   ]
  },
  {
   "cell_type": "markdown",
   "id": "3d43285d",
   "metadata": {},
   "source": [
    "For the tuning can the following adjusted\n",
    "<li> <i> min_depth_t </i></li>\n",
    "<li> <i> max_depth_t </i></li>\n",
    "<li> <i> min_estimator </i> minimum number of estimators</li>\n",
    "<li> <i> max_estimator </i> maximum number of estimators</li>\n",
    "<li> <i> value_generator </i> number of values to generate</li>\n",
    "<li> <i> n_iter </i> number of parameter settings that are sampled</li>\n",
    "<li> <i> cv </i> number of folds of cross validation</li>"
   ]
  },
  {
   "cell_type": "code",
   "execution_count": null,
   "id": "d599195d",
   "metadata": {},
   "outputs": [],
   "source": [
    "min_depth_t = 3\n",
    "max_depth_t = 10\n",
    "min_estimator = 10  \n",
    "max_estimator = 50  \n",
    "value_generator = 5  \n",
    "n_iter = 5    "
   ]
  },
  {
   "cell_type": "markdown",
   "id": "dbcc094f",
   "metadata": {},
   "source": [
    "The function <i>random_forest.rf_parameter_tuning</i> searches for suitable parameters and executes the fitting and prediction directly. Depending on the choice of parameters the process can take several hours"
   ]
  },
  {
   "cell_type": "code",
   "execution_count": null,
   "id": "122d8c56",
   "metadata": {},
   "outputs": [],
   "source": [
    "tuned_prediction = random_forest.rf_parameter_tuning(x_train, y_train, data, min_depth_t, max_depth_t,\n",
    "                                                         min_estimator, max_estimator, value_generator, n_iter,\n",
    "                                                         random_state, n_cores)"
   ]
  },
  {
   "cell_type": "markdown",
   "id": "bc3f77f5",
   "metadata": {},
   "source": [
    "We can visualize the result again "
   ]
  },
  {
   "cell_type": "code",
   "execution_count": null,
   "id": "f8a78e67",
   "metadata": {},
   "outputs": [],
   "source": [
    "geodata.tif_visualize(path, out_folder_prediction, name_tuned_predicted_image, raster_ext) #visualize a tuned prediction"
   ]
  },
  {
   "cell_type": "markdown",
   "id": "efa4c323",
   "metadata": {},
   "source": [
    "And save the result as GeoTiff"
   ]
  },
  {
   "cell_type": "code",
   "execution_count": null,
   "id": "f6d99044",
   "metadata": {},
   "outputs": [],
   "source": [
    "geodata.prediction_to_gtiff(tuned_prediction, path, out_folder_prediction, name_tuned_predicted_image, out_ref_p,\n",
    "                               raster_ext, mask)"
   ]
  },
  {
   "cell_type": "markdown",
   "id": "1d36b2d2",
   "metadata": {},
   "source": [
    "At the end, we can again perform the accuracy assessment. . The following metrics are\n",
    "evaluated:\n",
    "<li>Confusion matrix (CM)</li>\n",
    "<li>Kappa statistic (Kappa)</li>\n",
    "<li>Classification report (precision, recall, f1-score, support)</li>"
   ]
  },
  {
   "cell_type": "code",
   "execution_count": null,
   "id": "75d67e62",
   "metadata": {},
   "outputs": [],
   "source": [
    "AccuracyAssessment.accuracy_assessment(tuned_prediction, out_ref_p)"
   ]
  }
 ],
 "metadata": {
  "kernelspec": {
   "display_name": "Python 3 (ipykernel)",
   "language": "python",
   "name": "python3"
  },
  "language_info": {
   "codemirror_mode": {
    "name": "ipython",
    "version": 3
   },
   "file_extension": ".py",
   "mimetype": "text/x-python",
   "name": "python",
   "nbconvert_exporter": "python",
   "pygments_lexer": "ipython3",
   "version": "3.7.11"
  }
 },
 "nbformat": 4,
 "nbformat_minor": 5
}
