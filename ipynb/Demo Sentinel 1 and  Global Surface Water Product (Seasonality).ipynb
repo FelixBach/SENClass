{
 "cells": [
  {
   "cell_type": "markdown",
   "id": "d1478c9c",
   "metadata": {},
   "source": [
    "## Tutorial Classification of European Land Cover Products using Sentinel-1"
   ]
  },
  {
   "cell_type": "markdown",
   "id": "58804e2f",
   "metadata": {},
   "source": [
    "The focus of this task is the automated random sampling of the reference data and the SAR image data\n",
    "and subsequent feeding into a machine learning framework. A study area is represented by a wetland site of Donana Delta in Spain."
   ]
  },
  {
   "cell_type": "markdown",
   "id": "9cbe7bcc",
   "metadata": {},
   "source": [
    "#### import general python modules"
   ]
  },
  {
   "cell_type": "code",
   "execution_count": 1,
   "id": "5cd6ab92",
   "metadata": {},
   "outputs": [],
   "source": [
    "from datetime import datetime"
   ]
  },
  {
   "cell_type": "markdown",
   "id": "da8645de",
   "metadata": {},
   "source": [
    "#### import of  functions from .py files"
   ]
  },
  {
   "cell_type": "markdown",
   "id": "0d36e571",
   "metadata": {},
   "source": [
    "These functions are part of the SenClass project and are needed for computing and visualizing the results."
   ]
  },
  {
   "cell_type": "code",
   "execution_count": 4,
   "id": "c9494e32",
   "metadata": {},
   "outputs": [],
   "source": [
    "import geodata\n",
    "import random_forest\n",
    "import AccuracyAssessment\n",
    "import pca"
   ]
  },
  {
   "cell_type": "markdown",
   "id": "159e0a7a",
   "metadata": {},
   "source": [
    "#### define input parameters"
   ]
  },
  {
   "cell_type": "markdown",
   "id": "65b4211f",
   "metadata": {},
   "source": [
    "This is the only box which needs to be changed, all others runs automatically.\n",
    "Two directories need to be defined with / as separator:"
   ]
  },
  {
   "cell_type": "markdown",
   "id": "e32f5bb5",
   "metadata": {},
   "source": [
    "<ul>\n",
    "<li> <i>path</i> a directory containing all the raster files provided with this tutorial.</li>\n",
    "<li> <i>path_ref_p</i> a directory containing a reference product file, in this case  Global Surface Water Product (Seasonality) </li>\n",
    "</ul>"
   ]
  },
  {
   "cell_type": "code",
   "execution_count": 5,
   "id": "1bd75507",
   "metadata": {},
   "outputs": [],
   "source": [
    "path = '/path/to/data/'\n",
    "path_ref_p = '/path/to/reference_data'  "
   ]
  },
  {
   "cell_type": "markdown",
   "id": "1ba4522e",
   "metadata": {},
   "source": [
    "Here will be defined a file extention for raster images and the name of the reference product file"
   ]
  },
  {
   "cell_type": "code",
   "execution_count": null,
   "id": "79a2fcdd",
   "metadata": {},
   "outputs": [],
   "source": [
    "raster_ext = \"tif\"\n",
    "ref_p_name = \"seasonality_10W_40Nv1_3_2020_sub_reprojected.tif\""
   ]
  },
  {
   "cell_type": "markdown",
   "id": "a624c83e",
   "metadata": {},
   "source": [
    "#### create the output directory and files "
   ]
  },
  {
   "cell_type": "code",
   "execution_count": 6,
   "id": "b01a1c1d",
   "metadata": {},
   "outputs": [],
   "source": [
    "out_folder_resampled_scenes = \"resamp/\"\n",
    "out_folder_prediction = \"results/\"  "
   ]
  },
  {
   "cell_type": "code",
   "execution_count": 7,
   "id": "7ee1e581",
   "metadata": {},
   "outputs": [],
   "source": [
    "name_predicted_image = \"base_prediction_nd_0\"\n",
    "name_tuned_predicted_image = \"tune_prediction_nd_0\""
   ]
  },
  {
   "cell_type": "markdown",
   "id": "85c9f181",
   "metadata": {},
   "source": [
    "#### values for reclassifying raster data"
   ]
  },
  {
   "cell_type": "code",
   "execution_count": null,
   "id": "7b9d66c7",
   "metadata": {},
   "outputs": [],
   "source": [
    "raster_value = [0, 11, 12]\n",
    "class_value = [100, 200, 300]"
   ]
  },
  {
   "cell_type": "markdown",
   "id": "7cc59b12",
   "metadata": {},
   "source": [
    "#### define parameters for sample selection"
   ]
  },
  {
   "cell_type": "markdown",
   "id": "c106fe52",
   "metadata": {},
   "source": [
    "Furthermore, three processing parameters for sample selection can be adjusted:\n",
    "<ul>\n",
    "<li> <i>random_state</i></li>\n",
    "<li> <i>train_size</i> Specifies how many samples are used for training</li>\n",
    "<li> <i>sss</i> True: using stratified random sampling, False: using random sampling</li>\n",
    "</ul>    "
   ]
  },
  {
   "cell_type": "code",
   "execution_count": 22,
   "id": "340227f3",
   "metadata": {},
   "outputs": [],
   "source": [
    "random_state = 0\n",
    "train_size = 0.25  \n",
    "sss = False "
   ]
  },
  {
   "cell_type": "markdown",
   "id": "da703ac8",
   "metadata": {},
   "source": [
    "#### Define the number of components for Principal Coponent Analysis"
   ]
  },
  {
   "cell_type": "code",
   "execution_count": 29,
   "id": "a757383e",
   "metadata": {},
   "outputs": [],
   "source": [
    "n_components = 0.95"
   ]
  },
  {
   "cell_type": "markdown",
   "id": "f7f0b04a",
   "metadata": {},
   "source": [
    "#### define random forest parameter"
   ]
  },
  {
   "cell_type": "markdown",
   "id": "72259d6b",
   "metadata": {},
   "source": [
    "As well, the following random forest parameters can be adjusted\n",
    "<ul>\n",
    "<li> <i>max_depth</i></li> The maximum depth of the tree, default none\n",
    "<li> <i>n_estimator</i></li> The number of trees in the forest, default 100\n",
    "<li> <i>n_cores</i></li> Defines number of cores to use, if -1 all cores are used\n",
    "<li> <i>verbose</i></li> Shows output from rando mforrest in console\n",
    "</ul>"
   ]
  },
  {
   "cell_type": "code",
   "execution_count": 27,
   "id": "1bd4d2ea",
   "metadata": {},
   "outputs": [],
   "source": [
    "max_depth = 3 \n",
    "n_estimator = 2  \n",
    "n_cores = 1\n",
    "verbose = 1 "
   ]
  },
  {
   "cell_type": "markdown",
   "id": "dd8e3fec",
   "metadata": {},
   "source": [
    "For the tuning can the following adjusted\n",
    "<li> <i> min_depth_t </i></li>\n",
    "<li> <i> max_depth_t </i></li>\n",
    "<li> <i> min_estimator </i> minimum number of estimators</li>\n",
    "<li> <i> max_estimator </i> maximum number of estimators</li>\n",
    "<li> <i> value_generator </i> number of values to generate</li>\n",
    "<li> <i> n_iter </i> number of parameter settings that are sampled</li>\n",
    "<li> <i> cv </i> number of folds of cross validation</li>"
   ]
  },
  {
   "cell_type": "code",
   "execution_count": 28,
   "id": "86b00cfc",
   "metadata": {},
   "outputs": [],
   "source": [
    "min_depth_t = 3\n",
    "max_depth_t = 10\n",
    "min_estimator = 10  \n",
    "max_estimator = 50  \n",
    "value_generator = 5  \n",
    "n_iter = 5    "
   ]
  },
  {
   "cell_type": "markdown",
   "id": "7e55ab52",
   "metadata": {},
   "source": [
    "### Functions"
   ]
  },
  {
   "cell_type": "markdown",
   "id": "d78fc462",
   "metadata": {},
   "source": [
    "#### reprojecting and reclassifying raster data"
   ]
  },
  {
   "cell_type": "markdown",
   "id": "d08fd9ba",
   "metadata": {},
   "source": [
    "The raster used as reference product is projected into the coordinate system of the satellite images. The satellite\n",
    "images are not reprojected, but the pixel size is adjusted to that of the reference product."
   ]
  },
  {
   "cell_type": "code",
   "execution_count": 11,
   "id": "58c88644",
   "metadata": {},
   "outputs": [
    {
     "name": "stdout",
     "output_type": "stream",
     "text": [
      "\n",
      "####################   -   Preparing the Geodata   -   ####################\n",
      "\n",
      "##########   -   Searching for files   -   ##########\n",
      "D:/Uni/GEO419/T2/Abschlussaufgabe/Spain_Donana_S1-VV/ contains 90 raster files \n",
      "\n",
      "\n",
      "##########   -   Reprojecting data   -   ##########\n",
      "reprojected D:/Uni/GEO419/T2/Abschlussaufgabe/seasonality_10W_40Nv1_3_2020_sub_reprojected_reprojected.tif file from EPSG 32629 to EPSG 32629 \n",
      "location from resampled file: D:/Uni/GEO419/T2/Abschlussaufgabe/seasonality_10W_40Nv1_3_2020_sub_reprojected_reprojected_reprojected.tif\n",
      "\n",
      "resampled file already exists\n",
      "resampled file already exists\n",
      "resampled file already exists\n",
      "resampled file already exists\n",
      "resampled file already exists\n",
      "resampled file already exists\n",
      "resampled file already exists\n",
      "resampled file already exists\n",
      "resampled file already exists\n",
      "resampled file already exists\n",
      "resampled file already exists\n",
      "resampled file already exists\n",
      "resampled file already exists\n",
      "resampled file already exists\n",
      "resampled file already exists\n",
      "resampled file already exists\n",
      "resampled file already exists\n",
      "resampled file already exists\n",
      "resampled file already exists\n",
      "resampled file already exists\n",
      "resampled file already exists\n",
      "resampled file already exists\n",
      "resampled file already exists\n",
      "resampled file already exists\n",
      "resampled file already exists\n",
      "resampled file already exists\n",
      "resampled file already exists\n",
      "resampled file already exists\n",
      "resampled file already exists\n",
      "resampled file already exists\n",
      "resampled file already exists\n",
      "resampled file already exists\n",
      "resampled file already exists\n",
      "resampled file already exists\n",
      "resampled file already exists\n",
      "resampled file already exists\n",
      "resampled file already exists\n",
      "resampled file already exists\n",
      "resampled file already exists\n",
      "resampled file already exists\n",
      "resampled file already exists\n",
      "resampled file already exists\n",
      "resampled file already exists\n",
      "resampled file already exists\n",
      "resampled file already exists\n",
      "resampled file already exists\n",
      "resampled file already exists\n",
      "resampled file already exists\n",
      "resampled file already exists\n",
      "resampled file already exists\n",
      "resampled file already exists\n",
      "resampled file already exists\n",
      "resampled file already exists\n",
      "resampled file already exists\n",
      "resampled file already exists\n",
      "resampled file already exists\n",
      "resampled file already exists\n",
      "resampled file already exists\n",
      "resampled file already exists\n",
      "resampled file already exists\n",
      "resampled file already exists\n",
      "resampled file already exists\n",
      "resampled file already exists\n",
      "resampled file already exists\n",
      "resampled file already exists\n",
      "resampled file already exists\n",
      "resampled file already exists\n",
      "resampled file already exists\n",
      "resampled file already exists\n",
      "resampled file already exists\n",
      "resampled file already exists\n",
      "resampled file already exists\n",
      "resampled file already exists\n",
      "resampled file already exists\n",
      "resampled file already exists\n",
      "resampled file already exists\n",
      "resampled file already exists\n",
      "resampled file already exists\n",
      "resampled file already exists\n",
      "resampled file already exists\n",
      "resampled file already exists\n",
      "resampled file already exists\n",
      "resampled file already exists\n",
      "resampled file already exists\n",
      "resampled file already exists\n",
      "resampled file already exists\n",
      "resampled file already exists\n",
      "resampled file already exists\n",
      "resampled file already exists\n",
      "resampled file already exists\n",
      "location from resampled satellite images: D:/Uni/GEO419/T2/Abschlussaufgabe/Spain_Donana_S1-VV/resamp/\n",
      "\n"
     ]
    }
   ],
   "source": [
    "out_ref_p = geodata.reproject_raster(path, path_ref_p, ref_p_name, raster_ext, out_folder_resampled_scenes)"
   ]
  },
  {
   "cell_type": "code",
   "execution_count": null,
   "id": "594b76b8",
   "metadata": {},
   "outputs": [],
   "source": [
    "geodata.reclass_raster(raster_value, class_value, out_ref_p)"
   ]
  },
  {
   "cell_type": "markdown",
   "id": "6860155e",
   "metadata": {},
   "source": [
    "#### select samples from scene(s)"
   ]
  },
  {
   "cell_type": "markdown",
   "id": "c24a4ca2",
   "metadata": {},
   "source": [
    "The function select samples for training and testing. The user has the choice between two methods to select the\n",
    "test and training pixels. If strat is set to true, the pixels and labels are selected using the sklearn algorithm\n",
    " <i>StratifiedShuffleSplit </i>. Otherwise, the pixels and labels are randomly selected from the data frame using the\n",
    "sklearn algorithm  <i>train_test_split</i>."
   ]
  },
  {
   "cell_type": "code",
   "execution_count": 12,
   "id": "c61a5955",
   "metadata": {},
   "outputs": [
    {
     "name": "stdout",
     "output_type": "stream",
     "text": [
      "\n",
      "####################   -   Start sample selection   -   ####################\n",
      "\n",
      "##########   -   Searching for files   -   ##########\n",
      "D:/Uni/GEO419/T2/Abschlussaufgabe/Spain_Donana_S1-VV/resamp/ contains 90 resampled raster files \n",
      "\n",
      "\n",
      "##########   -   Preparing data   -   ##########\n",
      "Creating data frame with labels and pixel values from satellite images\n",
      "Removing -99 and NaN-values from data frame\n",
      "\n",
      "##########   -   Using train_test_split from sklearn.model_selection   -   ##########\n",
      "616388 pixels used for training \n",
      "\n"
     ]
    }
   ],
   "source": [
    "x_train, y_train, data, mask = geodata.select_samples(path, path_ref_p, out_ref_p, out_folder_resampled_scenes,\n",
    "                                                          raster_ext, train_size, random_state, sss)"
   ]
  },
  {
   "cell_type": "markdown",
   "id": "38aa8703",
   "metadata": {},
   "source": [
    "#### implement PCA Transformation"
   ]
  },
  {
   "cell_type": "markdown",
   "id": "781bee5b",
   "metadata": {},
   "source": [
    "Linear dimensionality reduction using Singular Value Decomposition of the data to project it to a lower dimensional space."
   ]
  },
  {
   "cell_type": "code",
   "execution_count": 13,
   "id": "70e380eb",
   "metadata": {},
   "outputs": [],
   "source": [
    "# data, x_train = pca.principal(data, x_train, n_components)"
   ]
  },
  {
   "cell_type": "markdown",
   "id": "5bd999c7",
   "metadata": {},
   "source": [
    "#### create random forest"
   ]
  },
  {
   "cell_type": "markdown",
   "id": "5224cf2e",
   "metadata": {},
   "source": [
    "The RandomForest will be created with this function."
   ]
  },
  {
   "cell_type": "code",
   "execution_count": 14,
   "id": "3e39c638",
   "metadata": {},
   "outputs": [
    {
     "name": "stdout",
     "output_type": "stream",
     "text": [
      "####################   -   Start RandomForest classification  -   ####################\n",
      "\n",
      "##########   -   Creating RandomForest   -   ##########\n",
      "RandomForest parameters: max_depth: 10, number of trees=10, used cpu cores=-1\n"
     ]
    }
   ],
   "source": [
    "rf = random_forest.rf_create(max_depth, random_state, n_estimator, n_cores, verbose)"
   ]
  },
  {
   "cell_type": "markdown",
   "id": "9d1f2d2e",
   "metadata": {},
   "source": [
    "#### train random forest"
   ]
  },
  {
   "cell_type": "markdown",
   "id": "ba4674b5",
   "metadata": {},
   "source": [
    "rf_fit will create the Random Forrest with the defined parameters and fit the model to the training data.\n"
   ]
  },
  {
   "cell_type": "code",
   "execution_count": 15,
   "id": "6179779b",
   "metadata": {},
   "outputs": [
    {
     "name": "stdout",
     "output_type": "stream",
     "text": [
      "\n",
      "##########   -   Fitting RandomForest   -   ##########\n"
     ]
    },
    {
     "name": "stderr",
     "output_type": "stream",
     "text": [
      "[Parallel(n_jobs=-1)]: Using backend ThreadingBackend with 8 concurrent workers.\n",
      "[Parallel(n_jobs=-1)]: Done   6 out of  10 | elapsed:   13.2s remaining:    8.7s\n",
      "[Parallel(n_jobs=-1)]: Done  10 out of  10 | elapsed:   21.6s finished\n"
     ]
    },
    {
     "name": "stdout",
     "output_type": "stream",
     "text": [
      "\n",
      "##########   -   Start Prediction   -   ##########\n"
     ]
    },
    {
     "name": "stderr",
     "output_type": "stream",
     "text": [
      "[Parallel(n_jobs=8)]: Using backend ThreadingBackend with 8 concurrent workers.\n",
      "[Parallel(n_jobs=8)]: Done   6 out of  10 | elapsed:    2.5s remaining:    1.7s\n",
      "[Parallel(n_jobs=8)]: Done  10 out of  10 | elapsed:    3.1s finished\n"
     ]
    }
   ],
   "source": [
    "rf_fitted = random_forest.rf_fit(rf, x_train, y_train)\n",
    "prediction = random_forest.rf_predict(data, rf_fitted)"
   ]
  },
  {
   "cell_type": "markdown",
   "id": "dd4ae24b",
   "metadata": {},
   "source": [
    "#### save as gtiff format"
   ]
  },
  {
   "cell_type": "markdown",
   "id": "54333bd6",
   "metadata": {},
   "source": [
    "The function <i>prediction_to_gtiff</i> writes the predicted array to a GTIFF file."
   ]
  },
  {
   "cell_type": "code",
   "execution_count": 19,
   "id": "a18aedab",
   "metadata": {},
   "outputs": [
    {
     "name": "stdout",
     "output_type": "stream",
     "text": [
      "predicted image already exists\n",
      "\n",
      "##########   -   Staring parameter tuning   -   ##########\n",
      "Fitting 5 folds for each of 5 candidates, totalling 25 fits\n",
      "Best performing RandomForestModel has the following parameters: RandomForestClassifier(max_depth=10, n_estimators=20) \n",
      "\n",
      "\n",
      "##########   -   save predicted image   -   ##########\n",
      "GTIFF created from predicted labels\n"
     ]
    }
   ],
   "source": [
    "geodata.prediction_to_gtiff(prediction, path, out_folder_prediction, name_predicted_image, out_ref_p, raster_ext,\n",
    "                                mask)\n",
    "#tuned_prediction = random_forest.rf_parameter_tuning(x_train, y_train, data, min_depth_t, max_depth_t,\n",
    "#                                                          min_estimator, max_estimator, value_generator, n_iter,\n",
    "#                                                          random_state, n_cores)\n",
    "#geodata.prediction_to_gtiff(tuned_prediction, path, out_folder_prediction, name_tuned_predicted_image, out_ref_p,\n",
    "#                                raster_ext, mask)"
   ]
  },
  {
   "cell_type": "markdown",
   "id": "31e084ed",
   "metadata": {},
   "source": [
    "#### visualize the results"
   ]
  },
  {
   "cell_type": "markdown",
   "id": "cc619312",
   "metadata": {},
   "source": [
    "The function <i>tif_visualize</i> shows the classification result from the Global Water Surface Productn (Seasonality)."
   ]
  },
  {
   "cell_type": "code",
   "execution_count": 20,
   "id": "6e351b66",
   "metadata": {},
   "outputs": [
    {
     "data": {
      "image/png": "[encoded data removed]",
      "text/plain": [
       "<Figure size 576x432 with 1 Axes>"
      ]
     },
     "metadata": {
      "needs_background": "light"
     },
     "output_type": "display_data"
    },
    {
     "data": {
      "image/png": "[encoded data removed]",
      "text/plain": [
       "<Figure size 576x432 with 1 Axes>"
      ]
     },
     "metadata": {
      "needs_background": "light"
     },
     "output_type": "display_data"
    }
   ],
   "source": [
    "geodata.tif_visualize(path, out_folder_prediction, name_predicted_image, raster_ext) #visualize a base prediction\n",
    "#geodata.tif_visualize(path, out_folder_prediction, name_tuned_predicted_image, raster_ext) #visualize a tuned prediction"
   ]
  },
  {
   "cell_type": "markdown",
   "id": "cf8c3414",
   "metadata": {},
   "source": [
    "#### get overall accuracy"
   ]
  },
  {
   "cell_type": "markdown",
   "id": "77eeb8c6",
   "metadata": {},
   "source": [
    "Contains functions to assess the accuracy of the RF classifier. The following metrics are\n",
    "evaluated:\n",
    "<li>Confusion matrix (CM)</li>\n",
    "<li>Kappa statistic (Kappa)</li>\n",
    "<li>Classification report (precision, recall, f1-score, support)</li>"
   ]
  },
  {
   "cell_type": "code",
   "execution_count": 21,
   "id": "9c250e46",
   "metadata": {},
   "outputs": [
    {
     "name": "stdout",
     "output_type": "stream",
     "text": [
      "\n",
      "####################   -   Accuracy Assessment   -   ####################\n",
      "\n",
      "##########   -   Confusion Matrix   -   ##########\n",
      "Predicted      0.0     1.0    2.0   3.0     4.0   5.0  6.0  7.0  8.0  9.0    12.0      All\n",
      "Actual                                                                                    \n",
      "0.0        2910660   33868    965   142  152309    97    3    4    0    0   48721  3146769\n",
      "1.0          76089  155887   1880   226   31142    14    1    1    0    0    1745   266985\n",
      "2.0          21101   49656   6965   571   11645    14    0    0    0    0    1548    91500\n",
      "3.0           9034    7617   2231  1481    3131   140    1    3    0    0    1261    24899\n",
      "4.0           5372     998    579   563    3370   417    0    0    0    1    2325    13625\n",
      "5.0           2609     142    105    70    1088   885    4    1    0    0    1831     6735\n",
      "6.0           1332      64     25    25     319   157   21   81    4    2     944     2974\n",
      "7.0           1039      10     14     5      41     3    0  294   11    0     708     2125\n",
      "8.0            480       2      5     1      15     0    0   32   39   11     280      865\n",
      "9.0            279       5      1     0      14     0    0    2    3   34     277      615\n",
      "12.0         11377     125     13    12   70731     3    0    0    0    0  818490   900751\n",
      "All        3039372  248374  12783  3096  273805  1730   30  418   57   48  878130  4457843\n",
      "\n",
      "##########   -   Classification report   -   ##########\n",
      "              precision    recall  f1-score   support\n",
      "\n",
      "         0.0       0.96      0.92      0.94   3146769\n",
      "         1.0       0.63      0.58      0.60    266985\n",
      "         2.0       0.54      0.08      0.13     91500\n",
      "         3.0       0.48      0.06      0.11     24899\n",
      "         4.0       0.01      0.25      0.02     13625\n",
      "         5.0       0.51      0.13      0.21      6735\n",
      "         6.0       0.70      0.01      0.01      2974\n",
      "         7.0       0.70      0.14      0.23      2125\n",
      "         8.0       0.68      0.05      0.08       865\n",
      "         9.0       0.71      0.06      0.10       615\n",
      "        12.0       0.93      0.91      0.92    900751\n",
      "\n",
      "    accuracy                           0.87   4457843\n",
      "   macro avg       0.62      0.29      0.31   4457843\n",
      "weighted avg       0.92      0.87      0.89   4457843\n",
      "\n",
      "Kappa Coefficient is 0.7358499728582507\n",
      "\n",
      "####################   -   Accuracy Assessment   -   ####################\n",
      "\n",
      "##########   -   Confusion Matrix   -   ##########\n",
      "Predicted      0.0     1.0    2.0   3.0   4.0   5.0  6.0  7.0  8.0  9.0     12.0      All\n",
      "Actual                                                                                   \n",
      "0.0        2915584   31724    594   133  2390    19    1    3    0    0   196321  3146769\n",
      "1.0          77642  155021   1367   218   186     6    0    2    0    0    32543   266985\n",
      "2.0          21286   50295   6317   697   379    16    0    1    0    0    12509    91500\n",
      "3.0           9279    7779   1999  1670   836   130    0    0    0    0     3206    24899\n",
      "4.0           5594     998    459   717  2917   483    0    0    0    1     2456    13625\n",
      "5.0           2717     114     71    73   872   990    1    1    0    0     1896     6735\n",
      "6.0           1359      58     30    34   251   181   23   93    1    1      943     2974\n",
      "7.0           1065       7     16     8    30     1    0  276    6    2      714     2125\n",
      "8.0            511       2      2     2     7     1    0   27   35   23      255      865\n",
      "9.0            275       2      2     0    11     0    0    3    9   84      229      615\n",
      "12.0         11470      78     22    13   793     2    0    0    0    1   888372   900751\n",
      "All        3046782  246078  10879  3565  8672  1829   25  406   51  112  1139444  4457843\n",
      "\n",
      "##########   -   Classification report   -   ##########\n",
      "              precision    recall  f1-score   support\n",
      "\n",
      "         0.0       0.96      0.93      0.94   3146769\n",
      "         1.0       0.63      0.58      0.60    266985\n",
      "         2.0       0.58      0.07      0.12     91500\n",
      "         3.0       0.47      0.07      0.12     24899\n",
      "         4.0       0.34      0.21      0.26     13625\n",
      "         5.0       0.54      0.15      0.23      6735\n",
      "         6.0       0.92      0.01      0.02      2974\n",
      "         7.0       0.68      0.13      0.22      2125\n",
      "         8.0       0.69      0.04      0.08       865\n",
      "         9.0       0.75      0.14      0.23       615\n",
      "        12.0       0.78      0.99      0.87    900751\n",
      "\n",
      "    accuracy                           0.89   4457843\n",
      "   macro avg       0.67      0.30      0.34   4457843\n",
      "weighted avg       0.89      0.89      0.88   4457843\n",
      "\n",
      "Kappa Coefficient is 0.7640250589329189\n"
     ]
    }
   ],
   "source": [
    "# Accuracy for a classification with the normal parameters\n",
    "AccuracyAssessment.accuracy_assessment(prediction, out_ref_p)\n",
    "# Accuracy for a classification with the tuned parameters\n",
    "#AccuracyAssessment.accuracy_assessment(tuned_prediction, out_ref_p)"
   ]
  },
  {
   "cell_type": "code",
   "execution_count": null,
   "id": "b36746e7",
   "metadata": {},
   "outputs": [],
   "source": []
  }
 ],
 "metadata": {
  "kernelspec": {
   "display_name": "Python 3",
   "language": "python",
   "name": "python3"
  },
  "language_info": {
   "codemirror_mode": {
    "name": "ipython",
    "version": 3
   },
   "file_extension": ".py",
   "mimetype": "text/x-python",
   "name": "python",
   "nbconvert_exporter": "python",
   "pygments_lexer": "ipython3",
   "version": "3.6.13"
  }
 },
 "nbformat": 4,
 "nbformat_minor": 5
}
